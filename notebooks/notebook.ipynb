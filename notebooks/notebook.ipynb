{
  "nbformat": 4,
  "nbformat_minor": 0,
  "metadata": {
    "colab": {
      "name": "README.ipynb",
      "version": "0.3.2",
      "views": {},
      "default_view": {},
      "provenance": []
    },
    "kernelspec": {
      "name": "python3",
      "display_name": "Python 3"
    }
  },
  "cells": [
    {
      "metadata": {
        "id": "1RJmwc_mPfBm",
        "colab_type": "text"
      },
      "cell_type": "markdown",
      "source": [
        "# Getting Started with Kubernetes on Atomic Host"
      ]
    },
    {
      "metadata": {
        "id": "VK__AuHafG8I",
        "colab_type": "text"
      },
      "cell_type": "markdown",
      "source": [
        "### Objectives"
      ]
    },
    {
      "metadata": {
        "id": "_4csP7LVfOVc",
        "colab_type": "text"
      },
      "cell_type": "markdown",
      "source": [
        "Create an Ansible Playbook that:\n",
        "\n",
        "1.   Compiles a cryptocurrency from source\n",
        "2.   Deploya on Atomic Host OS in AWS EC2\n",
        "\n",
        "1.   Uses Kubernetes for orchestratioin\n",
        "2.   Uses Ansible-Container\n",
        "*   Cryptographic verification\n",
        "*   Add a unique feature/integration\n",
        "\n",
        "\n",
        "\n",
        "\n",
        "\n",
        "\n"
      ]
    },
    {
      "metadata": {
        "id": "Ceix_OlGfviU",
        "colab_type": "text"
      },
      "cell_type": "markdown",
      "source": [
        "### Components"
      ]
    },
    {
      "metadata": {
        "id": "aZSWjW1ngRBK",
        "colab_type": "text"
      },
      "cell_type": "markdown",
      "source": [
        "\n",
        "\n",
        "*   Flannel for network overlay\n",
        "*   Docker for containerization\n",
        "\n",
        "*   Kubernetes for container orchestration\n",
        "*   Fedora for immutable operating system\n",
        "\n",
        "*   Ethereum Go for cryptocurrency\n",
        "\n",
        "*   Flannel for network overlay\n",
        "*   Ansible-Playbook for automation\n",
        "\n",
        "\n",
        "*   Jupyter Notebook for documentation and additional automation\n",
        "*   Amazon Web Services for cloud infrastructure\n",
        "\n",
        "\n",
        "*   Github for version control\n",
        "\n",
        "\n",
        "\n",
        "\n",
        "\n",
        "\n",
        "\n",
        "\n",
        "\n",
        "\n"
      ]
    },
    {
      "metadata": {
        "id": "Y1QGPhlJtLlo",
        "colab_type": "text"
      },
      "cell_type": "markdown",
      "source": [
        "# Table of Contents"
      ]
    },
    {
      "metadata": {
        "id": "l6gWob3Xjjvc",
        "colab_type": "toc"
      },
      "cell_type": "markdown",
      "source": [
        ">[Getting Started with Kubernetes on Atomic Host](#scrollTo=1RJmwc_mPfBm)\n",
        "\n",
        ">>>[Objectives](#scrollTo=VK__AuHafG8I)\n",
        "\n",
        ">>>[Components](#scrollTo=Ceix_OlGfviU)\n",
        "\n",
        ">[Step One: AWS Prerequisites](#scrollTo=ahpfT_x4gvpw)\n",
        "\n",
        ">[Step Two: Launch Fedora EC2 Instance](#scrollTo=WbIhllF3he8W)\n",
        "\n",
        ">[Step Three: Create a Local Docker-Hub Registry](#scrollTo=Q5OJpN2Uhd0Q)\n",
        "\n",
        ">>>[Reload the systemd daemon and start the new local-registry service.](#scrollTo=qwJ0WrAskdvE)\n",
        "\n",
        ">[Step 4: Configure Kubernetes Master](#scrollTo=VkA6rpTTlKlU)\n",
        "\n",
        ">>[Configure etcd](#scrollTo=7aSVyy8RlXn8)\n",
        "\n",
        ">>[Generate certificates](#scrollTo=-SazVklvll4i)\n",
        "\n",
        ">>>[Generate a CA. (--batch set automatic mode. --req-cn default CN to use.)](#scrollTo=y1dSWgXhl7gq)\n",
        "\n",
        ">>>[Generate server certificate and key](#scrollTo=l5jyl76imGX6)\n",
        "\n",
        ">>>[Copy pki/ca.crt, pki/issued/kubernetes-master.crt, and pki/private/kubernetes-master.key to /etc/kubernetes/certs.](#scrollTo=in8IPz_kmNU8)\n",
        "\n",
        ">[Configure services](#scrollTo=h7vp6TDdmbBa)\n",
        "\n",
        ">>[Apiserver service configuration](#scrollTo=BI5J5He8nGVc)\n",
        "\n",
        ">>[Controller-manager service configuration](#scrollTo=PfkQUhkSnxZo)\n",
        "\n",
        ">>>[Enable and start the Kubernetes services.](#scrollTo=bSR5rby1oCkQ)\n",
        "\n",
        ">[Configuring the Flannel overlay network](#scrollTo=2EO2SpJ7oJW2)\n",
        "\n",
        ">>[Create a keyname specific to this cluster](#scrollTo=cFlVuBdmof40)\n",
        "\n",
        ">>[Make sure we have the right config](#scrollTo=rX--bYiioo2w)\n",
        "\n",
        ">[Atomic Nodes](#scrollTo=n1ArasZ3oz36)\n",
        "\n",
        ">>>[As a good practice, update to the latest available Atomic tree.](#scrollTo=9yPV446npCG4)\n",
        "\n",
        ">>[Configuring Docker to use the cluster registry cache](#scrollTo=pdiuBauxpLDM)\n",
        "\n",
        ">>[Configuring Docker to use the Flannel overlay](#scrollTo=Ct_VaLm_pYA-)\n",
        "\n",
        ">>[Configuring Kubernetes nodes](#scrollTo=LJLFVtrFpmog)\n",
        "\n",
        ">>[Set the location of the etcd server](#scrollTo=__RcFr4Pp45o)\n",
        "\n",
        ">>[Set the cluster CIDR for Kubernetes Proxy.](#scrollTo=PJwiuOp_qMlU)\n",
        "\n",
        ">>[Reload](#scrollTo=rSRtamWRqY46)\n",
        "\n",
        ">[Confirm network configuration and cluster health](#scrollTo=30dsa3WeqlKI)\n",
        "\n",
        ">[Repeat these steps on the other 3 nodes to complete the cluster configuration.](#scrollTo=YeaFb2J6q68u)\n",
        "\n",
        ">[Exploring Kubernetes](#scrollTo=ukacb7ATrBYi)\n",
        "\n",
        ">>>[To get the pod up and running, use kubectl create](#scrollTo=nhbR2MQGsHri)\n",
        "\n",
        ">>>[To check the status of the containers using kubectl get](#scrollTo=FLn3T4MBsL7Y)\n",
        "\n",
        ">>>[Check to see which node it's running on](#scrollTo=vIMzxP_dsTLY)\n",
        "\n"
      ]
    },
    {
      "metadata": {
        "id": "ahpfT_x4gvpw",
        "colab_type": "text"
      },
      "cell_type": "markdown",
      "source": [
        "# Step One: AWS Prerequisites"
      ]
    },
    {
      "metadata": {
        "id": "Wx9sBPHWhHN4",
        "colab_type": "code",
        "colab": {
          "autoexec": {
            "startup": false,
            "wait_interval": 0
          }
        }
      },
      "cell_type": "code",
      "source": [
        "!ansible-playbook aws configure"
      ],
      "execution_count": 0,
      "outputs": []
    },
    {
      "metadata": {
        "id": "QaVr5MH1g5WW",
        "colab_type": "code",
        "colab": {
          "autoexec": {
            "startup": false,
            "wait_interval": 0
          }
        }
      },
      "cell_type": "code",
      "source": [
        "!ansible-playbook aws-keys.yml"
      ],
      "execution_count": 0,
      "outputs": []
    },
    {
      "metadata": {
        "id": "B_tO_JZUhNE8",
        "colab_type": "code",
        "colab": {
          "autoexec": {
            "startup": false,
            "wait_interval": 0
          }
        }
      },
      "cell_type": "code",
      "source": [
        "!ansible-playbook aws-iam.yml"
      ],
      "execution_count": 0,
      "outputs": []
    },
    {
      "metadata": {
        "id": "gaOZWu9whR7M",
        "colab_type": "code",
        "colab": {
          "autoexec": {
            "startup": false,
            "wait_interval": 0
          }
        }
      },
      "cell_type": "code",
      "source": [
        "!ansible-playbook aws-sec.yml"
      ],
      "execution_count": 0,
      "outputs": []
    },
    {
      "metadata": {
        "id": "ptEF6KJPhUZG",
        "colab_type": "code",
        "colab": {
          "autoexec": {
            "startup": false,
            "wait_interval": 0
          }
        }
      },
      "cell_type": "code",
      "source": [
        "!ansible-playbook vpc.yml"
      ],
      "execution_count": 0,
      "outputs": []
    },
    {
      "metadata": {
        "id": "WbIhllF3he8W",
        "colab_type": "text"
      },
      "cell_type": "markdown",
      "source": [
        "# Step Two: Launch Fedora EC2 Instance"
      ]
    },
    {
      "metadata": {
        "id": "yX-rFiaqjPrm",
        "colab_type": "text"
      },
      "cell_type": "markdown",
      "source": [
        "This will be our master node. Etcd, services, and the docker cashe will be located here."
      ]
    },
    {
      "metadata": {
        "id": "AO6QYvzPhYsO",
        "colab_type": "code",
        "colab": {
          "autoexec": {
            "startup": false,
            "wait_interval": 0
          }
        }
      },
      "cell_type": "code",
      "source": [
        "!ansible-playbook fedora.yml"
      ],
      "execution_count": 0,
      "outputs": []
    },
    {
      "metadata": {
        "id": "oVXOGtebjMP-",
        "colab_type": "code",
        "colab": {
          "autoexec": {
            "startup": false,
            "wait_interval": 0
          }
        }
      },
      "cell_type": "code",
      "source": [
        "sudo atomic host upgrade --reboot"
      ],
      "execution_count": 0,
      "outputs": []
    },
    {
      "metadata": {
        "id": "Q5OJpN2Uhd0Q",
        "colab_type": "text"
      },
      "cell_type": "markdown",
      "source": [
        "# Step Three: Create a Local Docker-Hub Registry"
      ]
    },
    {
      "metadata": {
        "id": "oOrG4BvAjsRO",
        "colab_type": "text"
      },
      "cell_type": "markdown",
      "source": [
        "Create a named container from the Docker Hub registry image, exposing the standard Docker Hub port from the container via the host.  We're using a local host directory as a persistence layer for the images that get cached for use.  The other environment variables passed in to the registry set the source registry."
      ]
    },
    {
      "metadata": {
        "id": "LYjiIlqAj3Ze",
        "colab_type": "code",
        "colab": {
          "autoexec": {
            "startup": false,
            "wait_interval": 0
          }
        }
      },
      "cell_type": "code",
      "source": [
        "sudo docker create -p 5000:5000 \\ -v /var/lib/local-registry:/var/lib/registry \\ -e \n",
        "REGISTRY_STORAGE_FILESYSTEM_ROOTDIRECTORY=/var/lib/registry \\ -e \n",
        "REGISTRY_PROXY_REMOTEURL=https://registry-1.docker.io \\ --name=local-registry registry:2"
      ],
      "execution_count": 0,
      "outputs": []
    },
    {
      "metadata": {
        "id": "1aFt9IvfkLLO",
        "colab_type": "text"
      },
      "cell_type": "markdown",
      "source": [
        "Note: We need to change the SELinux context on the directory that docker created for our persistence volume."
      ]
    },
    {
      "metadata": {
        "id": "O3iFuJQSkSQG",
        "colab_type": "code",
        "colab": {
          "autoexec": {
            "startup": false,
            "wait_interval": 0
          }
        }
      },
      "cell_type": "code",
      "source": [
        "sudo mkdir -p /var/lib/local-registry"
      ],
      "execution_count": 0,
      "outputs": []
    },
    {
      "metadata": {
        "id": "airHU1BmkS-g",
        "colab_type": "code",
        "colab": {
          "autoexec": {
            "startup": false,
            "wait_interval": 0
          }
        }
      },
      "cell_type": "code",
      "source": [
        "sudo chcon -Rvt svirt_sandbox_file_t /var/lib/local-registry"
      ],
      "execution_count": 0,
      "outputs": []
    },
    {
      "metadata": {
        "id": "qwJ0WrAskdvE",
        "colab_type": "text"
      },
      "cell_type": "markdown",
      "source": [
        "### Reload the systemd daemon and start the new local-registry service."
      ]
    },
    {
      "metadata": {
        "id": "9l4PEzkdkfHs",
        "colab_type": "code",
        "colab": {
          "autoexec": {
            "startup": false,
            "wait_interval": 0
          }
        }
      },
      "cell_type": "code",
      "source": [
        "sudo vi /etc/systemd/system/local-registry.service\n"
      ],
      "execution_count": 0,
      "outputs": []
    },
    {
      "metadata": {
        "id": "0e_TeDVBkpsy",
        "colab_type": "code",
        "colab": {
          "autoexec": {
            "startup": false,
            "wait_interval": 0
          }
        }
      },
      "cell_type": "code",
      "source": [
        "[Unit]\n",
        "Description=Local Docker Mirror registry cache\n",
        "Requires=docker.service\n",
        "After=docker.service"
      ],
      "execution_count": 0,
      "outputs": []
    },
    {
      "metadata": {
        "id": "VyDMuRRBkmi2",
        "colab_type": "code",
        "colab": {
          "autoexec": {
            "startup": false,
            "wait_interval": 0
          }
        }
      },
      "cell_type": "code",
      "source": [
        "[Service]\n",
        "Restart=on-failure\n",
        "RestartSec=10\n",
        "ExecStart=/usr/bin/docker start -a %p\n",
        "ExecStop=-/usr/bin/docker stop -t 2 %p"
      ],
      "execution_count": 0,
      "outputs": []
    },
    {
      "metadata": {
        "id": "TnaS4JycksOs",
        "colab_type": "code",
        "colab": {
          "autoexec": {
            "startup": false,
            "wait_interval": 0
          }
        }
      },
      "cell_type": "code",
      "source": [
        "[Install]\n",
        "WantedBy=multi-user.target"
      ],
      "execution_count": 0,
      "outputs": []
    },
    {
      "metadata": {
        "id": "-isX-Yh5kvmy",
        "colab_type": "code",
        "colab": {
          "autoexec": {
            "startup": false,
            "wait_interval": 0
          }
        }
      },
      "cell_type": "code",
      "source": [
        "sudo systemctl daemon-reload"
      ],
      "execution_count": 0,
      "outputs": []
    },
    {
      "metadata": {
        "id": "C0Q3gmZfk18S",
        "colab_type": "code",
        "colab": {
          "autoexec": {
            "startup": false,
            "wait_interval": 0
          }
        }
      },
      "cell_type": "code",
      "source": [
        "sudo systemctl enable local-registry"
      ],
      "execution_count": 0,
      "outputs": []
    },
    {
      "metadata": {
        "id": "n9tTqpjSk5Ou",
        "colab_type": "code",
        "colab": {
          "autoexec": {
            "startup": false,
            "wait_interval": 0
          }
        }
      },
      "cell_type": "code",
      "source": [
        "sudo systemctl start local-registry"
      ],
      "execution_count": 0,
      "outputs": []
    },
    {
      "metadata": {
        "id": "VkA6rpTTlKlU",
        "colab_type": "text"
      },
      "cell_type": "markdown",
      "source": [
        "# Step 4: Configure Kubernetes Master"
      ]
    },
    {
      "metadata": {
        "id": "7aSVyy8RlXn8",
        "colab_type": "text"
      },
      "cell_type": "markdown",
      "source": [
        "## Configure etcd"
      ]
    },
    {
      "metadata": {
        "id": "dii6P4DqlRAQ",
        "colab_type": "code",
        "colab": {
          "autoexec": {
            "startup": false,
            "wait_interval": 0
          }
        }
      },
      "cell_type": "code",
      "source": [
        "sudo vi /etc/etcd/etcd.conf\n",
        "ETCD_LISTEN_CLIENT_URLS=\"http://0.0.0.0:2379,http://0.0.0.0:4001\"\n",
        "ETCD_ADVERTISE_CLIENT_URLS=\"http://192.168.122.10:2379,http://192.168.122.10:4001\""
      ],
      "execution_count": 0,
      "outputs": []
    },
    {
      "metadata": {
        "id": "-SazVklvll4i",
        "colab_type": "text"
      },
      "cell_type": "markdown",
      "source": [
        "## Generate certificates"
      ]
    },
    {
      "metadata": {
        "id": "iGULQdeelpak",
        "colab_type": "code",
        "colab": {
          "autoexec": {
            "startup": false,
            "wait_interval": 0
          }
        }
      },
      "cell_type": "code",
      "source": [
        "curl -L -O https://storage.googleapis.com/kubernetes-release/easy-rsa/easy-rsa.tar.gz"
      ],
      "execution_count": 0,
      "outputs": []
    },
    {
      "metadata": {
        "id": "lAhCevmOlwAg",
        "colab_type": "code",
        "colab": {
          "autoexec": {
            "startup": false,
            "wait_interval": 0
          }
        }
      },
      "cell_type": "code",
      "source": [
        "tar xzf easy-rsa.tar.gz"
      ],
      "execution_count": 0,
      "outputs": []
    },
    {
      "metadata": {
        "id": "hYubaePilyqU",
        "colab_type": "code",
        "colab": {
          "autoexec": {
            "startup": false,
            "wait_interval": 0
          }
        }
      },
      "cell_type": "code",
      "source": [
        "cd easy-rsa-master/easyrsa3"
      ],
      "execution_count": 0,
      "outputs": []
    },
    {
      "metadata": {
        "id": "Lw3Kn0sAly2k",
        "colab_type": "code",
        "colab": {
          "autoexec": {
            "startup": false,
            "wait_interval": 0
          }
        }
      },
      "cell_type": "code",
      "source": [
        "./easyrsa init-pk"
      ],
      "execution_count": 0,
      "outputs": []
    },
    {
      "metadata": {
        "id": "y1dSWgXhl7gq",
        "colab_type": "text"
      },
      "cell_type": "markdown",
      "source": [
        "### Generate a CA. (--batch set automatic mode. --req-cn default CN to use.)"
      ]
    },
    {
      "metadata": {
        "id": "OsQhQsv5l8nY",
        "colab_type": "code",
        "colab": {
          "autoexec": {
            "startup": false,
            "wait_interval": 0
          }
        }
      },
      "cell_type": "code",
      "source": [
        "MASTER_IP=192.168.122.10"
      ],
      "execution_count": 0,
      "outputs": []
    },
    {
      "metadata": {
        "id": "G4evT7CFl_bK",
        "colab_type": "code",
        "colab": {
          "autoexec": {
            "startup": false,
            "wait_interval": 0
          }
        }
      },
      "cell_type": "code",
      "source": [
        "./easyrsa --batch \"--req-cn=${MASTER_IP}@`date +%s`\" build-ca nopass"
      ],
      "execution_count": 0,
      "outputs": []
    },
    {
      "metadata": {
        "id": "l5jyl76imGX6",
        "colab_type": "text"
      },
      "cell_type": "markdown",
      "source": [
        "### Generate server certificate and key"
      ]
    },
    {
      "metadata": {
        "id": "hecy5DnumHc0",
        "colab_type": "code",
        "colab": {
          "autoexec": {
            "startup": false,
            "wait_interval": 0
          }
        }
      },
      "cell_type": "code",
      "source": [
        "./easyrsa --subject-alt-name=\"IP:${MASTER_IP}\" build-server-full server nopass"
      ],
      "execution_count": 0,
      "outputs": []
    },
    {
      "metadata": {
        "id": "in8IPz_kmNU8",
        "colab_type": "text"
      },
      "cell_type": "markdown",
      "source": [
        "### Copy pki/ca.crt, pki/issued/kubernetes-master.crt, and pki/private/kubernetes-master.key to /etc/kubernetes/certs."
      ]
    },
    {
      "metadata": {
        "id": "TwjdhwdemKT2",
        "colab_type": "code",
        "colab": {
          "autoexec": {
            "startup": false,
            "wait_interval": 0
          }
        }
      },
      "cell_type": "code",
      "source": [
        "sudo mkdir /etc/kubernetes/certs"
      ],
      "execution_count": 0,
      "outputs": []
    },
    {
      "metadata": {
        "id": "01B4wRw1mRkc",
        "colab_type": "code",
        "colab": {
          "autoexec": {
            "startup": false,
            "wait_interval": 0
          }
        }
      },
      "cell_type": "code",
      "source": [
        "for i in {pki/ca.crt,pki/issued/server.crt,pki/private/server.key}; do sudo cp $i /etc/kubernetes/certs; done"
      ],
      "execution_count": 0,
      "outputs": []
    },
    {
      "metadata": {
        "id": "CcS1UWi_mVk8",
        "colab_type": "code",
        "colab": {
          "autoexec": {
            "startup": false,
            "wait_interval": 0
          }
        }
      },
      "cell_type": "code",
      "source": [
        "sudo chown -R kube:kube /etc/kubernetes/certs"
      ],
      "execution_count": 0,
      "outputs": []
    },
    {
      "metadata": {
        "id": "h7vp6TDdmbBa",
        "colab_type": "text"
      },
      "cell_type": "markdown",
      "source": [
        "# Configure services\n",
        "\n",
        "```\n",
        "Services\n",
        "config\n",
        "apiserver\n",
        "controller-manager\n",
        "scheduler\n",
        "```\n",
        "\n"
      ]
    },
    {
      "metadata": {
        "id": "mVaTc3romsq8",
        "colab_type": "text"
      },
      "cell_type": "markdown",
      "source": [
        "We'll be setting up the etcd store that Kubernetes will use.  We're using a single local etcd service, so we'll point that at the master on the standard port.  We'll also set up how the services find the apiserver.\n",
        "\n",
        "\n",
        "```\n",
        "# Comma separated list of nodes in the etcd cluster\n",
        "KUBE_ETCD_SERVERS=\"--etcd_servers=http://192.168.122.10:2379\"\n",
        "\n",
        "# How the controller-manager, scheduler, and proxy find the kube-apiserver\n",
        "KUBE_MASTER=\"--master=http://192.168.122.10:6443\"```\n",
        "\n"
      ]
    },
    {
      "metadata": {
        "id": "aHRwvspQmktK",
        "colab_type": "code",
        "colab": {
          "autoexec": {
            "startup": false,
            "wait_interval": 0
          }
        }
      },
      "cell_type": "code",
      "source": [
        "sudo vi /etc/kubernetes/config"
      ],
      "execution_count": 0,
      "outputs": []
    },
    {
      "metadata": {
        "id": "BI5J5He8nGVc",
        "colab_type": "text"
      },
      "cell_type": "markdown",
      "source": [
        "## Apiserver service configuration"
      ]
    },
    {
      "metadata": {
        "id": "HpIK5yoWnLU6",
        "colab_type": "text"
      },
      "cell_type": "markdown",
      "source": [
        "The apiserver needs to be set to listen on all IP addresses, instead of just localhost.\n",
        "\n",
        "```\n",
        "# The address on the local server to listen to.\n",
        "KUBE_API_ADDRESS=\"--insecure-bind-address=0.0.0.0\"\n",
        "\n",
        "```\n",
        "\n"
      ]
    },
    {
      "metadata": {
        "id": "w1WPRASIm6dk",
        "colab_type": "code",
        "colab": {
          "autoexec": {
            "startup": false,
            "wait_interval": 0
          }
        }
      },
      "cell_type": "code",
      "source": [
        "sudo vi /etc/kubernetes/apiserver"
      ],
      "execution_count": 0,
      "outputs": []
    },
    {
      "metadata": {
        "id": "ScyAGpOHnUGQ",
        "colab_type": "text"
      },
      "cell_type": "markdown",
      "source": [
        "If you need to modify the set of IPs that Kubernetes assigns to services, change the KUBE_SERVICE_ADDRESSES value. Since this guide is using the 192.168.122.0/24 and 172.16.0.0/12 networks, we can leave the default.  This address space needs to be unused elsewhere, but doesn't need to be reachable from either of the other networks.\n",
        "\n",
        "```\n",
        "# Address range to use for services\n",
        "KUBE_SERVICE_ADDRESSES=\"--service-cluster-ip-range=10.254.0.0/16\"\n",
        "```\n",
        "\n"
      ]
    },
    {
      "metadata": {
        "id": "zLY_EvrmnowO",
        "colab_type": "text"
      },
      "cell_type": "markdown",
      "source": [
        "We'll also add parameters for the certificates we generated earlier.\n",
        "\n",
        "```\n",
        "# Add your own!\n",
        "KUBE_API_ARGS=\"--tls-cert-file=/etc/kubernetes/certs/server.crt --tls-private-key-file=/etc/kubernetes/certs/server.key --client-ca-file=/etc/kubernetes/certs/ca.crt --service-account-key-file=/etc/kubernetes/certs/server.crt\"```\n",
        "\n"
      ]
    },
    {
      "metadata": {
        "id": "PfkQUhkSnxZo",
        "colab_type": "text"
      },
      "cell_type": "markdown",
      "source": [
        "## Controller-manager service configuration"
      ]
    },
    {
      "metadata": {
        "id": "m8fXO19Un0xO",
        "colab_type": "text"
      },
      "cell_type": "markdown",
      "source": [
        "The controller-manager also needs parameters for the certificates we generated.\n",
        "\n",
        "```\n",
        "# Add your own!\n",
        "KUBE_CONTROLLER_MANAGER_ARGS=\"--service-account-private-key-file=/etc/kubernetes/certs/server.key --root-ca-file=/etc/kubernetes/certs/ca.crt\"\n",
        "```\n",
        "\n"
      ]
    },
    {
      "metadata": {
        "id": "m-J-2tFLn4gG",
        "colab_type": "code",
        "colab": {
          "autoexec": {
            "startup": false,
            "wait_interval": 0
          }
        }
      },
      "cell_type": "code",
      "source": [
        "sudo vi /etc/kubernetes/controller-manager"
      ],
      "execution_count": 0,
      "outputs": []
    },
    {
      "metadata": {
        "id": "bSR5rby1oCkQ",
        "colab_type": "text"
      },
      "cell_type": "markdown",
      "source": [
        "### Enable and start the Kubernetes services."
      ]
    },
    {
      "metadata": {
        "id": "5NcfTtaUoGRE",
        "colab_type": "code",
        "colab": {
          "autoexec": {
            "startup": false,
            "wait_interval": 0
          }
        }
      },
      "cell_type": "code",
      "source": [
        "sudo systemctl enable etcd flanneld kube-apiserver kube-controller-manager kube-scheduler"
      ],
      "execution_count": 0,
      "outputs": []
    },
    {
      "metadata": {
        "id": "B0AYmD6loGz2",
        "colab_type": "code",
        "colab": {
          "autoexec": {
            "startup": false,
            "wait_interval": 0
          }
        }
      },
      "cell_type": "code",
      "source": [
        "sudo systemctl start etcd flanneld kube-apiserver kube-controller-manager kube-scheduler"
      ],
      "execution_count": 0,
      "outputs": []
    },
    {
      "metadata": {
        "id": "2EO2SpJ7oJW2",
        "colab_type": "text"
      },
      "cell_type": "markdown",
      "source": [
        "# Configuring the Flannel overlay network"
      ]
    },
    {
      "metadata": {
        "id": "pHA8dknDoWn6",
        "colab_type": "text"
      },
      "cell_type": "markdown",
      "source": [
        "\n",
        "\n",
        "```\n",
        "{\n",
        "\"Network\": \"172.16.0.0/12\",\n",
        "\"SubnetLen\": 24,\n",
        "\"Backend\": {\n",
        "\"Type\": \"vxlan\"\n",
        "}\n",
        "}\n",
        "```\n",
        "\n"
      ]
    },
    {
      "metadata": {
        "id": "iWy8wWWkoGw0",
        "colab_type": "code",
        "colab": {
          "autoexec": {
            "startup": false,
            "wait_interval": 0
          }
        }
      },
      "cell_type": "code",
      "source": [
        "vi flanneld-conf.json"
      ],
      "execution_count": 0,
      "outputs": []
    },
    {
      "metadata": {
        "id": "cFlVuBdmof40",
        "colab_type": "text"
      },
      "cell_type": "markdown",
      "source": [
        "## Create a keyname specific to this cluster"
      ]
    },
    {
      "metadata": {
        "id": "Xd0BexOgoh2S",
        "colab_type": "code",
        "colab": {
          "autoexec": {
            "startup": false,
            "wait_interval": 0
          }
        }
      },
      "cell_type": "code",
      "source": [
        "curl -L http://localhost:2379/v2/keys/atomic.io/network/config -XPUT --data-urlencode value@flanneld-conf.json"
      ],
      "execution_count": 0,
      "outputs": []
    },
    {
      "metadata": {
        "id": "rX--bYiioo2w",
        "colab_type": "text"
      },
      "cell_type": "markdown",
      "source": [
        "## Make sure we have the right config\n",
        "\n",
        "```\n",
        "{\n",
        "\"action\": \"get\",\n",
        "\"node\": {\n",
        "\"createdIndex\": 11,\n",
        "\"key\": \"/atomic.io/network/config\",\n",
        "\"modifiedIndex\": 11,\n",
        "\"value\": \"{\\n  \\\"Network\\\": \\\"172.16.0.0/12\\\",\\n  \\\"SubnetLen\\\": 24,\\n  \\\"Backend\\\": {\\n    \\\"Type\\\": \\\"vxlan\\\"\\n  }\\n}\\n\\n\"\n",
        "}\n",
        "}\n",
        "```\n",
        "\n"
      ]
    },
    {
      "metadata": {
        "id": "jv5b02uloqxQ",
        "colab_type": "code",
        "colab": {
          "autoexec": {
            "startup": false,
            "wait_interval": 0
          }
        }
      },
      "cell_type": "code",
      "source": [
        "curl -L http://localhost:2379/v2/keys/atomic.io/network/config | python -m json.tool"
      ],
      "execution_count": 0,
      "outputs": []
    },
    {
      "metadata": {
        "id": "n1ArasZ3oz36",
        "colab_type": "text"
      },
      "cell_type": "markdown",
      "source": [
        "# Atomic Nodes"
      ]
    },
    {
      "metadata": {
        "id": "qdTFCQXRo85A",
        "colab_type": "text"
      },
      "cell_type": "markdown",
      "source": [
        "We'll be configuring Docker to use Flannel and our cache for configuring the Kubernetes services.  These nodes will act as the workers and run Pods and containers.  You can repeat this on as many nodes as you like to provide resources to the cluster.  In this guide, we'll set up 4 nodes."
      ]
    },
    {
      "metadata": {
        "id": "9yPV446npCG4",
        "colab_type": "text"
      },
      "cell_type": "markdown",
      "source": [
        "### As a good practice, update to the latest available Atomic tree."
      ]
    },
    {
      "metadata": {
        "id": "GgUuza0Qo9nG",
        "colab_type": "code",
        "colab": {
          "autoexec": {
            "startup": false,
            "wait_interval": 0
          }
        }
      },
      "cell_type": "code",
      "source": [
        "sudo atomic host upgrade"
      ],
      "execution_count": 0,
      "outputs": []
    },
    {
      "metadata": {
        "id": "aUkwSigVo_y0",
        "colab_type": "code",
        "colab": {
          "autoexec": {
            "startup": false,
            "wait_interval": 0
          }
        }
      },
      "cell_type": "code",
      "source": [
        "sudo systemctl reboo"
      ],
      "execution_count": 0,
      "outputs": []
    },
    {
      "metadata": {
        "id": "pdiuBauxpLDM",
        "colab_type": "text"
      },
      "cell_type": "markdown",
      "source": [
        "## Configuring Docker to use the cluster registry cache"
      ]
    },
    {
      "metadata": {
        "id": "wcyzS8g4pOAQ",
        "colab_type": "text"
      },
      "cell_type": "markdown",
      "source": [
        "Add the local cache registry running on the master to the docker options that get pulled into the systemd unit file.\n",
        "\n",
        "```\n",
        "OPTIONS='--registry-mirror=http://192.168.122.10:5000 --selinux-enabled --log-driver=journald'\n",
        "```\n",
        "\n"
      ]
    },
    {
      "metadata": {
        "id": "v1y32Op3pO5G",
        "colab_type": "code",
        "colab": {
          "autoexec": {
            "startup": false,
            "wait_interval": 0
          }
        }
      },
      "cell_type": "code",
      "source": [
        "sudo vi /etc/sysconfig/docker"
      ],
      "execution_count": 0,
      "outputs": []
    },
    {
      "metadata": {
        "id": "Ct_VaLm_pYA-",
        "colab_type": "text"
      },
      "cell_type": "markdown",
      "source": [
        "## Configuring Docker to use the Flannel overlay"
      ]
    },
    {
      "metadata": {
        "id": "uZXgsq6Xpcj-",
        "colab_type": "text"
      },
      "cell_type": "markdown",
      "source": [
        "To set up flanneld, we need to tell the local flannel service where to find the etcd service serving up the config. We also give it the right key to find the networking values for this cluster.\n",
        "\n",
        "\n",
        "```\n",
        "# etcd url location.  Point this to the server where etcd runs\n",
        "FLANNEL_ETCD_ENDPOINTS=\"http://192.168.122.10:2379\"\n",
        "\n",
        "# etcd config key.  This is the configuration key that flannel queries\n",
        "# For address range assignment\n",
        "FLANNEL_ETCD_PREFIX=\"/atomic.io/network\"\n",
        "```\n",
        "\n"
      ]
    },
    {
      "metadata": {
        "id": "1Unemau6pdMg",
        "colab_type": "code",
        "colab": {
          "autoexec": {
            "startup": false,
            "wait_interval": 0
          }
        }
      },
      "cell_type": "code",
      "source": [
        "sudo vi /etc/sysconfig/flanneld"
      ],
      "execution_count": 0,
      "outputs": []
    },
    {
      "metadata": {
        "id": "LJLFVtrFpmog",
        "colab_type": "text"
      },
      "cell_type": "markdown",
      "source": [
        "## Configuring Kubernetes nodes"
      ]
    },
    {
      "metadata": {
        "id": "y_s4o58LptPu",
        "colab_type": "text"
      },
      "cell_type": "markdown",
      "source": [
        "The address entry in the kubelet config file must match the KUBLET_ADDRESSES entry on the master.   If hostnames are used, this also must match output of hostname -f on the node.  We're using the eth0 IP address like we did on the master.\n",
        "\n",
        "```\n",
        "# The address for the info server to serve on (set to 0.0.0.0 or \"\" for all interfaces)\n",
        "KUBELET_ADDRESS=\"--address=192.168.122.11\"\n",
        "\n",
        "# You may leave this blank to use the actual hostname\n",
        "KUBELET_HOSTNAME=\"--hostname-override=192.168.122.11\"\n",
        "\n",
        "# location of the api-server\n",
        "KUBELET_API_SERVER=\"--api-servers=http://192.168.122.10:8080\"\n",
        "\n",
        "```\n",
        "\n"
      ]
    },
    {
      "metadata": {
        "id": "Y_aznDNupw5K",
        "colab_type": "code",
        "colab": {
          "autoexec": {
            "startup": false,
            "wait_interval": 0
          }
        }
      },
      "cell_type": "code",
      "source": [
        "sudo vi /etc/kubernetes/kubelet"
      ],
      "execution_count": 0,
      "outputs": []
    },
    {
      "metadata": {
        "id": "__RcFr4Pp45o",
        "colab_type": "text"
      },
      "cell_type": "markdown",
      "source": [
        "## Set the location of the etcd server"
      ]
    },
    {
      "metadata": {
        "id": "fnDKshQqqGYO",
        "colab_type": "text"
      },
      "cell_type": "markdown",
      "source": [
        "\n",
        "\n",
        "```\n",
        "# How the controller-manager, scheduler, and proxy find the kube-apiserver\n",
        "KUBE_MASTER=\"--master=http://192.168.122.10:8080\"\n",
        "```\n",
        "\n"
      ]
    },
    {
      "metadata": {
        "id": "mgHIYVz8p-ME",
        "colab_type": "code",
        "colab": {
          "autoexec": {
            "startup": false,
            "wait_interval": 0
          }
        }
      },
      "cell_type": "code",
      "source": [
        "sudo vi /etc/kubernetes/config"
      ],
      "execution_count": 0,
      "outputs": []
    },
    {
      "metadata": {
        "id": "PJwiuOp_qMlU",
        "colab_type": "text"
      },
      "cell_type": "markdown",
      "source": [
        "## Set the cluster CIDR for Kubernetes Proxy."
      ]
    },
    {
      "metadata": {
        "id": "Cma5gVuCqQnc",
        "colab_type": "text"
      },
      "cell_type": "markdown",
      "source": [
        "\n",
        "\n",
        "```\n",
        "# Add your own!\n",
        "KUBE_PROXY_ARGS=\"--cluster-cidr=10.254.0.0/16\"\n",
        "```\n",
        "\n"
      ]
    },
    {
      "metadata": {
        "id": "JxeE-73RqN_A",
        "colab_type": "code",
        "colab": {
          "autoexec": {
            "startup": false,
            "wait_interval": 0
          }
        }
      },
      "cell_type": "code",
      "source": [
        "sudo vi /etc/kubernetes/proxy"
      ],
      "execution_count": 0,
      "outputs": []
    },
    {
      "metadata": {
        "id": "rSRtamWRqY46",
        "colab_type": "text"
      },
      "cell_type": "markdown",
      "source": [
        "## Reload"
      ]
    },
    {
      "metadata": {
        "id": "Ce97pSDiqbKo",
        "colab_type": "code",
        "colab": {
          "autoexec": {
            "startup": false,
            "wait_interval": 0
          }
        }
      },
      "cell_type": "code",
      "source": [
        "sudo iptables --policy FORWARD ACCEPT"
      ],
      "execution_count": 0,
      "outputs": []
    },
    {
      "metadata": {
        "id": "qhb1YfQRqb_A",
        "colab_type": "code",
        "colab": {
          "autoexec": {
            "startup": false,
            "wait_interval": 0
          }
        }
      },
      "cell_type": "code",
      "source": [
        "sudo systemctl daemon-reload"
      ],
      "execution_count": 0,
      "outputs": []
    },
    {
      "metadata": {
        "id": "uUWlhSyzqeSs",
        "colab_type": "code",
        "colab": {
          "autoexec": {
            "startup": false,
            "wait_interval": 0
          }
        }
      },
      "cell_type": "code",
      "source": [
        "sudo systemctl enable flanneld kubelet kube-proxy"
      ],
      "execution_count": 0,
      "outputs": []
    },
    {
      "metadata": {
        "id": "fn5I4zBcqgjK",
        "colab_type": "code",
        "colab": {
          "autoexec": {
            "startup": false,
            "wait_interval": 0
          }
        }
      },
      "cell_type": "code",
      "source": [
        "sudo systemctl reboot"
      ],
      "execution_count": 0,
      "outputs": []
    },
    {
      "metadata": {
        "id": "30dsa3WeqlKI",
        "colab_type": "text"
      },
      "cell_type": "markdown",
      "source": [
        "# Confirm network configuration and cluster health"
      ]
    },
    {
      "metadata": {
        "id": "Z9HVUxIYqpSo",
        "colab_type": "text"
      },
      "cell_type": "markdown",
      "source": [
        "Once all of your services are started, the networking should look something like what's below.  You'll see the Flannel device that shows the selected range for this host and the docker0 bridge that has a specific subnet assigned."
      ]
    },
    {
      "metadata": {
        "id": "RpmH2kPFq32K",
        "colab_type": "text"
      },
      "cell_type": "markdown",
      "source": [
        "\n",
        "\n",
        "```\n",
        "2: eth0: <BROADCAST,MULTICAST,UP,LOWER_UP> mtu 9001 qdisc pfifo_fast state UP group default qlen 1000\n",
        "link/ether 0a:45:46:8d:6a:de brd ff:ff:ff:ff:ff:ff\n",
        "inet 10.4.0.120/24 brd 10.4.0.255 scope global dynamic eth0\n",
        "valid_lft 3570sec preferred_lft 3570sec\n",
        "inet6 fe80::845:46ff:fe8d:6ade/64 scope link\n",
        "valid_lft forever preferred_lft forever\n",
        "3: flannel.1: <BROADCAST,MULTICAST,UP,LOWER_UP> mtu 8951 qdisc noqueue state UNKNOWN group default\n",
        "link/ether 1a:50:6d:23:5d:a2 brd ff:ff:ff:ff:ff:ff\n",
        "inet 172.16.36.0/12 scope global flannel.1\n",
        "valid_lft forever preferred_lft forever\n",
        "inet6 fe80::1850:6dff:fe23:5da2/64 scope link\n",
        "valid_lft forever preferred_lft forever\n",
        "5: docker0: <NO-CARRIER,BROADCAST,MULTICAST,UP> mtu 1500 qdisc noqueue state DOWN group default\n",
        "link/ether 56:84:7a:fe:97:99 brd ff:ff:ff:ff:ff:ff\n",
        "inet 172.16.36.1/24 scope global docker0\n",
        "valid_lft forever preferred_lft forever\n",
        "\n",
        "```\n",
        "\n"
      ]
    },
    {
      "metadata": {
        "id": "nugylEQXqqIu",
        "colab_type": "code",
        "colab": {
          "autoexec": {
            "startup": false,
            "wait_interval": 0
          }
        }
      },
      "cell_type": "code",
      "source": [
        "sudo systemctl status flanneld docker kubelet kube-proxy"
      ],
      "execution_count": 0,
      "outputs": []
    },
    {
      "metadata": {
        "id": "OO0czmRsquBk",
        "colab_type": "code",
        "colab": {
          "autoexec": {
            "startup": false,
            "wait_interval": 0
          }
        }
      },
      "cell_type": "code",
      "source": [
        "ip a"
      ],
      "execution_count": 0,
      "outputs": []
    },
    {
      "metadata": {
        "id": "YeaFb2J6q68u",
        "colab_type": "text"
      },
      "cell_type": "markdown",
      "source": [
        "# Repeat these steps on the other 3 nodes to complete the cluster configuration."
      ]
    },
    {
      "metadata": {
        "id": "ukacb7ATrBYi",
        "colab_type": "text"
      },
      "cell_type": "markdown",
      "source": [
        "# Exploring Kubernetes"
      ]
    },
    {
      "metadata": {
        "id": "JqKBqZP4rAeQ",
        "colab_type": "code",
        "colab": {
          "autoexec": {
            "startup": false,
            "wait_interval": 0
          }
        }
      },
      "cell_type": "code",
      "source": [
        "kubectl get node"
      ],
      "execution_count": 0,
      "outputs": []
    },
    {
      "metadata": {
        "id": "ECvXmWuZrUfO",
        "colab_type": "text"
      },
      "cell_type": "markdown",
      "source": [
        "We can now create a simple Kubernetes pod to schedule a workload.\n",
        "\n",
        "We'll create a simple nginx pod definition on the master.  You can use JSON or YAML to create pods, we'll use YAML.\n",
        "\n",
        "```\n",
        "apiVersion: v1\n",
        "kind: Pod\n",
        "metadata:\n",
        "name: www\n",
        "spec:\n",
        "containers:\n",
        "  name: nginix\n",
        "    image: nginx\n",
        "    ports:\n",
        "      containerPort: 80\n",
        "      hostport: 8080\n",
        "```\n",
        "\n"
      ]
    },
    {
      "metadata": {
        "id": "VtA8usKCrHRs",
        "colab_type": "code",
        "colab": {
          "autoexec": {
            "startup": false,
            "wait_interval": 0
          }
        }
      },
      "cell_type": "code",
      "source": [
        "vi kube-nginx.yml"
      ],
      "execution_count": 0,
      "outputs": []
    },
    {
      "metadata": {
        "id": "nhbR2MQGsHri",
        "colab_type": "text"
      },
      "cell_type": "markdown",
      "source": [
        "### To get the pod up and running, use kubectl create"
      ]
    },
    {
      "metadata": {
        "id": "hkO6-lTcr9Dm",
        "colab_type": "code",
        "colab": {
          "autoexec": {
            "startup": false,
            "wait_interval": 0
          }
        }
      },
      "cell_type": "code",
      "source": [
        "kubectl create -f kube-nginx.yml"
      ],
      "execution_count": 0,
      "outputs": []
    },
    {
      "metadata": {
        "id": "FLn3T4MBsL7Y",
        "colab_type": "text"
      },
      "cell_type": "markdown",
      "source": [
        "### To check the status of the containers using kubectl get"
      ]
    },
    {
      "metadata": {
        "id": "aKnDz4iEsND2",
        "colab_type": "code",
        "colab": {
          "autoexec": {
            "startup": false,
            "wait_interval": 0
          }
        }
      },
      "cell_type": "code",
      "source": [
        "kubectl get pod"
      ],
      "execution_count": 0,
      "outputs": []
    },
    {
      "metadata": {
        "id": "vIMzxP_dsTLY",
        "colab_type": "text"
      },
      "cell_type": "markdown",
      "source": [
        "### Check to see which node it's running on"
      ]
    },
    {
      "metadata": {
        "id": "7KtOM_qIsWXK",
        "colab_type": "code",
        "colab": {
          "autoexec": {
            "startup": false,
            "wait_interval": 0
          }
        }
      },
      "cell_type": "code",
      "source": [
        "kubectl describe pods www | grep Node"
      ],
      "execution_count": 0,
      "outputs": []
    },
    {
      "metadata": {
        "id": "-2YFXyLQscxQ",
        "colab_type": "text"
      },
      "cell_type": "markdown",
      "source": [
        "Point a web browser at the host Kubernetes created the container on. Use port 8080, since that was the host port we connected to the container port 80 in the pod definition. You should see the nginx welcome page.\n",
        "\n",
        "You've now created and scheduled your first kubernetes pod.  You can explore the kubernetes documentation for more information on how to build pods and services, and checkout these ansible scripts for a fuller-featured cluster that includes kubernetes addons such as dns."
      ]
    }
  ]
}